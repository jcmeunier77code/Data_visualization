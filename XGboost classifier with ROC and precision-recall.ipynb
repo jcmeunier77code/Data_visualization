{
 "cells": [
  {
   "cell_type": "markdown",
   "metadata": {},
   "source": [
    "# XGboost classifier with ROC and precision-recall"
   ]
  },
  {
   "cell_type": "markdown",
   "metadata": {},
   "source": [
    "## import libraries"
   ]
  },
  {
   "cell_type": "code",
   "execution_count": 23,
   "metadata": {},
   "outputs": [],
   "source": [
    "import numpy as np \n",
    "import pandas as pd \n",
    "import matplotlib.pyplot as plt\n",
    "import seaborn as sns\n",
    "from sklearn.linear_model import SGDClassifier, LogisticRegression\n",
    "from sklearn.ensemble import RandomForestClassifier\n",
    "from sklearn.metrics import confusion_matrix,classification_report,accuracy_score, precision_recall_curve, precision_score, f1_score, recall_score, roc_auc_score, roc_curve, auc \n",
    "import itertools\n",
    "import xgboost as xgb\n"
   ]
  },
  {
   "cell_type": "markdown",
   "metadata": {},
   "source": [
    "## Creation of functions "
   ]
  },
  {
   "cell_type": "markdown",
   "metadata": {},
   "source": [
    "### Code for T/F-N/P"
   ]
  },
  {
   "cell_type": "code",
   "execution_count": 2,
   "metadata": {},
   "outputs": [],
   "source": [
    "# TP = confusion_matrix[0,0]\n",
    "# FP = confusion_matrix[1,0]  \n",
    "# FN = confusion_matrix[0,1]\n",
    "# TN = confusion_matrix[1,1]\n",
    "\n",
    "# # Sensitivity, hit rate, recall, or true positive rate\n",
    "# TPR = TP/(TP+FN)\n",
    "# # Specificity or true negative rate\n",
    "# TNR = TN/(TN+FP) \n",
    "# # Precision or positive predictive value\n",
    "# PPV = TP/(TP+FP)\n",
    "# # Negative predictive value\n",
    "# NPV = TN/(TN+FN)\n",
    "# # Fall out or false positive rate\n",
    "# FPR = FP/(FP+TN)\n",
    "# # False negative rate\n",
    "# FNR = FN/(TP+FN)\n",
    "# # False discovery rate\n",
    "# FDR = FP/(TP+FP)\n",
    "\n",
    "# # Overall accuracy\n",
    "# ACC = (TP+TN)/(TP+FP+FN+TN)"
   ]
  },
  {
   "cell_type": "markdown",
   "metadata": {},
   "source": [
    "### Confusion matrice function"
   ]
  },
  {
   "cell_type": "code",
   "execution_count": 3,
   "metadata": {},
   "outputs": [],
   "source": [
    "# confusion matrix function\n",
    "\n",
    "def plot_confusion_matrix(cm, classes, normalize=False,title='Confusion matrix',cmap=plt.cm.Greens):\n",
    "    \n",
    "    fig = plt.figure(figsize=(6,6))\n",
    "    plt.imshow(cm, interpolation='nearest', cmap=cmap)\n",
    "    plt.title(title, fontsize=20)\n",
    "    tick_marks = np.arange(len(classes))\n",
    "    plt.xticks(tick_marks, classes, rotation=90, fontsize=12)\n",
    "    plt.yticks(tick_marks, classes, fontsize=12)\n",
    "\n",
    "    if normalize:\n",
    "        cm = cm.astype('float') / cm.sum(axis=1)[:, np.newaxis]\n",
    "\n",
    "    thresh = cm.max() / 2.\n",
    "    for i, j in itertools.product(range(cm.shape[0]), range(cm.shape[1])):\n",
    "        plt.text(j, i, cm[i, j],\n",
    "                 horizontalalignment=\"center\",\n",
    "                 color=\"white\" if cm[i, j] > thresh else \"black\", fontsize=20)\n",
    "\n",
    "    plt.tight_layout()\n",
    "    plt.ylabel('Actual label', fontsize=15)\n",
    "    plt.xlabel('Predicted label', fontsize=15)"
   ]
  },
  {
   "cell_type": "markdown",
   "metadata": {},
   "source": [
    "### ROC curve function"
   ]
  },
  {
   "cell_type": "code",
   "execution_count": 4,
   "metadata": {},
   "outputs": [],
   "source": [
    "def plot_roc_curve(labels, predictions, positive_label=1, num_thresh_points=10, thresholds_step=0.2, title=''):\n",
    "    # fp: false positive rates. tp: true positive rates\n",
    "    i=0\n",
    "    fp, tp, thresholds = roc_curve(labels, predictions, pos_label=positive_label)\n",
    "    thresholdsLength = len(thresholds)\n",
    "    num_thresh_points = int(np.linspace(0,thresholdsLength,num_thresh_points)[1].round(0))-1\n",
    "    colorMap=plt.get_cmap('rainbow', thresholdsLength)\n",
    "    roc_auc = auc(fp, tp)\n",
    "\n",
    "    plt.figure(figsize=(12, 12))\n",
    "    plt.plot(fp, tp, label='ROC curve (area = %0.3f)' % roc_auc, linewidth=0, color='red')\n",
    "    plt.plot([0, 1], [0, 1], label='No skill', color='navy', linestyle='--', linewidth=2)\n",
    "    plt.text(0.8, 0.2, 'ROC curve (area = %0.3f)' % roc_auc, fontdict={'size': 1}, color=colorMap(thresholdsLength));\n",
    "    plt.xlabel('False positives rate', fontsize=12)\n",
    "    plt.ylabel('True positives rate', fontsize=12)\n",
    "    plt.xlim([-0.05, 1.05])\n",
    "    plt.ylim([-0.05, 1.05])\n",
    "    plt.title(title, fontsize=16)\n",
    "    plt.grid(True)\n",
    "\n",
    "    for x, y, txt in zip(fp[1::num_thresh_points], tp[1::num_thresh_points], thresholds[1::num_thresh_points]):\n",
    "        i+=1\n",
    "        plt.annotate(np.round(txt,2), (x, y-0.04))\n",
    "        plt.scatter(x, y, s=12, color=colorMap(num_thresh_points*i/thresholdsLength))\n",
    "        if i <=1:\n",
    "            plt.plot(fp[0:num_thresh_points+1], tp[0:num_thresh_points+1], label='high threshold', linewidth=2, color=colorMap(0))\n",
    "            plt.plot(fp[(num_thresh_points*i)+1:(num_thresh_points*(i+1))+(i+1)], tp[(num_thresh_points*i)+1:(num_thresh_points*(i+1))+(i+1)], linewidth=2, color=colorMap(num_thresh_points*i/thresholdsLength))\n",
    "        elif i == num_thresh_points-4:\n",
    "            plt.plot(fp[(num_thresh_points*i)+1:(num_thresh_points*(i+1))+(i+1)], tp[(num_thresh_points*i)+1:(num_thresh_points*(i+1))+(i+1)], label='low threshold', linewidth=2, color=colorMap(num_thresh_points*i/thresholdsLength))\n",
    "\n",
    "        else:\n",
    "            plt.plot(fp[(num_thresh_points*i)+1:(num_thresh_points*(i+1))+(i+1)], tp[(num_thresh_points*i)+1:(num_thresh_points*(i+1))+(i+1)], linewidth=2, color=colorMap(num_thresh_points*i/thresholdsLength))\n",
    "    \n",
    "#     # This code is for having exact values of thresholds (0.1,0.3,0.5,0.7, and 0.9) but won't work if these values are not in the threshold list\n",
    "#     for decim in np.arange(0.9,0.0,-thresholds_step):\n",
    "#         index = np.where(thresholds.round(1) == decim)\n",
    "#         print('index', len(index[0]))\n",
    "#         print('thresholds', thresholds)\n",
    "#         if len(index[0])==0: \n",
    "#             pass\n",
    "#         else :\n",
    "#             threshold_value_with_max_four_decimals = str(thresholds[index[0][0]].round(1))\n",
    "#             plt.text(fp[index[0][0]] - 0.03, tp[index[0][0]] + 0.005, threshold_value_with_max_four_decimals, fontdict={'size': 12}, color=colorMap(index[0][0]/thresholdsLength));\n",
    "#             plt.scatter(fp[index[0][0]], tp[index[0][0]], s=8, color=colorMap(index[0][0]/thresholdsLength))\n",
    "#             if decim >=0.9:\n",
    "#                 plt.plot(fp[0:index[0][0]], tp[0:index[0][0]], label='high threshold (>=0.9)', linewidth=2, color=colorMap(0))\n",
    "#                 plt.plot(fp[index[0][0]:np.where(thresholds.round(3) == (decim-thresholds_step))[0][0]], tp[index[0][0]:np.where(thresholds.round(3) == (decim-thresholds_step))[0][0]], linewidth=2, color=colorMap(index[0][0]/thresholdsLength))\n",
    "#             elif decim <=0.1:\n",
    "#                 plt.plot(fp[index[0][0]: thresholdsLength], tp[index[0][0]:thresholdsLength], label='low threshold (<=0.1)', linewidth=2, color=colorMap(index[0][0]/thresholdsLength))\n",
    "#             else : \n",
    "#                 plt.plot(fp[index[0][0]:np.where(thresholds.round(3) == (decim-thresholds_step))[0][0]], tp[index[0][0]:np.where(thresholds.round(3) == (decim-thresholds_step))[0][0]], linewidth=2, color=colorMap(index[0][0]/thresholdsLength))\n",
    "\n",
    "    plt.legend(loc=\"lower right\")\n",
    "    plt.show()"
   ]
  },
  {
   "cell_type": "markdown",
   "metadata": {},
   "source": [
    "### Precision-recall curve function"
   ]
  },
  {
   "cell_type": "code",
   "execution_count": 5,
   "metadata": {},
   "outputs": [],
   "source": [
    "def plot_precision_recall_curve(labels, predictions, positive_label=1, num_thresh_points=10, thresholds_step=0.2, title=''):\n",
    "    # Precision : TP amongst all PREdicted positive (TP+FP), Recall: TP amongst all REal positive (TP+FN)\n",
    "    i=0\n",
    "    precision, recall, thresholds = precision_recall_curve(labels, predictions, pos_label=positive_label)\n",
    "    thresholdsLength = len(thresholds)\n",
    "    num_thresh_points = int(np.linspace(0,thresholdsLength,num_thresh_points)[1].round(0))-1\n",
    "    colorMap=plt.get_cmap('rainbow', thresholdsLength)\n",
    "    precision_recall_auc = auc(recall, precision)\n",
    "\n",
    "    plt.figure(figsize=(12, 12))\n",
    "    plt.plot(recall, precision, label='Precision-recall curve (area = %0.3f)' % precision_recall_auc, linewidth=0, color='red')\n",
    "    plt.plot([0, 1], [0, 0], label='No skill', color='navy', linestyle='--', linewidth=2)\n",
    "    plt.text(0.8, 0.2, 'ROC curve (area = %0.3f)' % precision_recall_auc, fontdict={'size': 1}, color=colorMap(thresholdsLength));\n",
    "    plt.xlabel('Recall', fontsize=12)\n",
    "    plt.ylabel('Precision', fontsize=12)\n",
    "    plt.xlim([-0.05, 1.05])\n",
    "    plt.ylim([-0.05, 1.05])\n",
    "    plt.title(title, fontsize=16)\n",
    "    plt.grid(True)\n",
    "\n",
    "    for x, y, txt in zip(recall[1::num_thresh_points], precision[1::num_thresh_points], thresholds[1::num_thresh_points]):\n",
    "        i+=1\n",
    "        plt.annotate(np.round(txt,2), (x, y-0.04))\n",
    "        plt.scatter(x, y, s=12, color=colorMap(num_thresh_points*i/thresholdsLength))\n",
    "        if i <=1:\n",
    "            plt.plot(recall[0:num_thresh_points+1], precision[0:num_thresh_points+1], label='high threshold', linewidth=2, color=colorMap(0))\n",
    "            plt.plot(recall[(num_thresh_points*i)+1:(num_thresh_points*(i+1))+(i+1)], precision[(num_thresh_points*i)+1:(num_thresh_points*(i+1))+(i+1)], linewidth=2, color=colorMap(num_thresh_points*i/thresholdsLength))\n",
    "        elif i == num_thresh_points-5:\n",
    "            plt.plot(recall[(num_thresh_points*i)+1:thresholdsLength], precision[(num_thresh_points*i)+1:thresholdsLength], label='low threshold', linewidth=2, color=colorMap(num_thresh_points*i/thresholdsLength))\n",
    "\n",
    "        else:\n",
    "            plt.plot(recall[(num_thresh_points*i)+1:(num_thresh_points*(i+1))+(i+1)], precision[(num_thresh_points*i)+1:(num_thresh_points*(i+1))+(i+1)], linewidth=2, color=colorMap(num_thresh_points*i/thresholdsLength))\n",
    "\n",
    "    \n",
    "#     # This code is for having exact values of thresholds (0.1,0.3,0.5,0.7, and 0.9) but won't work if these values are not in the threshold list\n",
    "#     for decim in np.arange(0.9,0.0,-thresholds_step):\n",
    "#         index = np.where(thresholds.round(3) == decim)\n",
    "#         threshold_value_with_max_four_decimals = str(thresholds[index[0][0]].round(1))\n",
    "#         plt.text(precision[index[0][0]] - 0.03, recall[index[0][0]] + 0.005, threshold_value_with_max_four_decimals, fontdict={'size': 12}, color=colorMap(index[0][0]/thresholdsLength));\n",
    "#         plt.scatter(precision[index[0][0]], recall[index[0][0]], s=8, color=colorMap(index[0][0]/thresholdsLength))\n",
    "#         if decim >=0.9:\n",
    "#             plt.plot(precision[0:index[0][0]], recall[0:index[0][0]], label='high threshold (>=0.9)', linewidth=2, color=colorMap(0))\n",
    "#             plt.plot(precision[index[0][0]:np.where(thresholds.round(3) == (decim-thresholds_step))[0][0]], recall[index[0][0]:np.where(thresholds.round(3) == (decim-thresholds_step))[0][0]], linewidth=2, color=colorMap(index[0][0]/thresholdsLength))\n",
    "\n",
    "    \n",
    "#         elif decim <=0.1:\n",
    "#             plt.plot(precision[index[0][0]: thresholdsLength], recall[index[0][0]:thresholdsLength], label='low threshold (<=0.1)', linewidth=2, color=colorMap(index[0][0]/thresholdsLength))\n",
    "\n",
    "            \n",
    "#         else : \n",
    "#             plt.plot(precision[index[0][0]:np.where(thresholds.round(3) == (decim-thresholds_step))[0][0]], recall[index[0][0]:np.where(thresholds.round(3) == (decim-thresholds_step))[0][0]], linewidth=2, color=colorMap(index[0][0]/thresholdsLength))\n",
    "\n",
    "    plt.legend(loc=\"lower right\")\n",
    "    plt.show()"
   ]
  },
  {
   "cell_type": "markdown",
   "metadata": {},
   "source": [
    "## Data preparation"
   ]
  },
  {
   "cell_type": "markdown",
   "metadata": {},
   "source": [
    "load and prepare data"
   ]
  },
  {
   "cell_type": "code",
   "execution_count": 6,
   "metadata": {},
   "outputs": [],
   "source": [
    "#load the data\n",
    "Ktrain = pd.read_csv('./data/titanic/train.csv')"
   ]
  },
  {
   "cell_type": "code",
   "execution_count": 7,
   "metadata": {},
   "outputs": [],
   "source": [
    "#Ktrain.head(3)"
   ]
  },
  {
   "cell_type": "code",
   "execution_count": 8,
   "metadata": {},
   "outputs": [],
   "source": [
    "train = Ktrain[['Survived', 'Sex', 'Age']]\n",
    "train = train.dropna(axis=0)"
   ]
  },
  {
   "cell_type": "code",
   "execution_count": 9,
   "metadata": {},
   "outputs": [
    {
     "data": {
      "text/plain": [
       "Survived    0\n",
       "Sex         0\n",
       "Age         0\n",
       "dtype: int64"
      ]
     },
     "execution_count": 9,
     "metadata": {},
     "output_type": "execute_result"
    }
   ],
   "source": [
    "train.isna().sum()"
   ]
  },
  {
   "cell_type": "code",
   "execution_count": 10,
   "metadata": {},
   "outputs": [
    {
     "data": {
      "text/plain": [
       "0    424\n",
       "1    290\n",
       "Name: Survived, dtype: int64"
      ]
     },
     "execution_count": 10,
     "metadata": {},
     "output_type": "execute_result"
    }
   ],
   "source": [
    "train.Survived.value_counts()"
   ]
  },
  {
   "cell_type": "code",
   "execution_count": 11,
   "metadata": {},
   "outputs": [],
   "source": [
    "#train.head(3)"
   ]
  },
  {
   "cell_type": "code",
   "execution_count": 12,
   "metadata": {},
   "outputs": [],
   "source": [
    "x_train= train[['Sex', 'Age']]"
   ]
  },
  {
   "cell_type": "code",
   "execution_count": 13,
   "metadata": {},
   "outputs": [
    {
     "name": "stderr",
     "output_type": "stream",
     "text": [
      "<ipython-input-13-cdab1f63aa32>:1: SettingWithCopyWarning: \n",
      "A value is trying to be set on a copy of a slice from a DataFrame.\n",
      "Try using .loc[row_indexer,col_indexer] = value instead\n",
      "\n",
      "See the caveats in the documentation: https://pandas.pydata.org/pandas-docs/stable/user_guide/indexing.html#returning-a-view-versus-a-copy\n",
      "  x_train['Sex'] = np.where((x_train.Sex == 'male'), 0.0,1.0)\n"
     ]
    }
   ],
   "source": [
    "x_train['Sex'] = np.where((x_train.Sex == 'male'), 0.0,1.0)"
   ]
  },
  {
   "cell_type": "code",
   "execution_count": 14,
   "metadata": {},
   "outputs": [
    {
     "data": {
      "text/html": [
       "<div>\n",
       "<style scoped>\n",
       "    .dataframe tbody tr th:only-of-type {\n",
       "        vertical-align: middle;\n",
       "    }\n",
       "\n",
       "    .dataframe tbody tr th {\n",
       "        vertical-align: top;\n",
       "    }\n",
       "\n",
       "    .dataframe thead th {\n",
       "        text-align: right;\n",
       "    }\n",
       "</style>\n",
       "<table border=\"1\" class=\"dataframe\">\n",
       "  <thead>\n",
       "    <tr style=\"text-align: right;\">\n",
       "      <th></th>\n",
       "      <th>Sex</th>\n",
       "      <th>Age</th>\n",
       "    </tr>\n",
       "  </thead>\n",
       "  <tbody>\n",
       "    <tr>\n",
       "      <th>0</th>\n",
       "      <td>0.0</td>\n",
       "      <td>22.0</td>\n",
       "    </tr>\n",
       "    <tr>\n",
       "      <th>1</th>\n",
       "      <td>1.0</td>\n",
       "      <td>38.0</td>\n",
       "    </tr>\n",
       "    <tr>\n",
       "      <th>2</th>\n",
       "      <td>1.0</td>\n",
       "      <td>26.0</td>\n",
       "    </tr>\n",
       "  </tbody>\n",
       "</table>\n",
       "</div>"
      ],
      "text/plain": [
       "   Sex   Age\n",
       "0  0.0  22.0\n",
       "1  1.0  38.0\n",
       "2  1.0  26.0"
      ]
     },
     "execution_count": 14,
     "metadata": {},
     "output_type": "execute_result"
    }
   ],
   "source": [
    "x_train.head(3)"
   ]
  },
  {
   "cell_type": "code",
   "execution_count": 15,
   "metadata": {},
   "outputs": [],
   "source": [
    "y_train= ~train['Survived']+2 # use for inverting 0 and 1. Now 1 is 'deceased and 0 is 'survived'"
   ]
  },
  {
   "cell_type": "code",
   "execution_count": 16,
   "metadata": {},
   "outputs": [
    {
     "data": {
      "text/plain": [
       "1    424\n",
       "0    290\n",
       "Name: Survived, dtype: int64"
      ]
     },
     "execution_count": 16,
     "metadata": {},
     "output_type": "execute_result"
    }
   ],
   "source": [
    "y_train.value_counts()"
   ]
  },
  {
   "cell_type": "markdown",
   "metadata": {},
   "source": [
    "## Model building and prediction "
   ]
  },
  {
   "cell_type": "markdown",
   "metadata": {},
   "source": [
    "Logistic regression : building a simple model with only 2 features"
   ]
  },
  {
   "cell_type": "code",
   "execution_count": 17,
   "metadata": {},
   "outputs": [],
   "source": [
    "# Set regularization rate\n",
    "reg = 0.01\n",
    "\n",
    "classifier = LogisticRegression(C=1/reg, solver=\"liblinear\")\n",
    "Logmodel = classifier.fit(x_train,y_train)"
   ]
  },
  {
   "cell_type": "code",
   "execution_count": 18,
   "metadata": {},
   "outputs": [],
   "source": [
    "y_proba = Logmodel.predict_proba(x_train) # soft class predictions (proba)\n",
    "y_score = Logmodel.predict(x_train) # hard class predictions (0 : survived ; 1 : deceased)"
   ]
  },
  {
   "cell_type": "code",
   "execution_count": 19,
   "metadata": {},
   "outputs": [],
   "source": [
    "#y_proba[:,1] #1 probability deceased"
   ]
  },
  {
   "cell_type": "markdown",
   "metadata": {},
   "source": [
    "XGboost : building a simple model with only 2 features"
   ]
  },
  {
   "cell_type": "code",
   "execution_count": null,
   "metadata": {},
   "outputs": [],
   "source": []
  },
  {
   "cell_type": "code",
   "execution_count": 44,
   "metadata": {},
   "outputs": [],
   "source": [
    "def model(classifier):\n",
    "\n",
    "    # Define preprocessing for numerical columns \n",
    "    # Standardize features by removing the mean and scaling to unit variance\n",
    "\n",
    "    numeric_transformer = Pipeline(steps=[\n",
    "        ('scaler', StandardScaler())])\n",
    "\n",
    "    # Define preprocessing for categorical features and encode categorical features as a one-hot numeric array.\n",
    "\n",
    "    categorical_transformer = Pipeline(steps=[\n",
    "        ('onehot', OneHotEncoder(handle_unknown='ignore'))])\n",
    "\n",
    "    # Combine preprocessing steps\n",
    "    preprocessor = ColumnTransformer(\n",
    "        transformers=[\n",
    "            ('num', numeric_transformer, numeric_features),\n",
    "            ('cat', categorical_transformer, categorical_features)])\n",
    "\n",
    "    # Create preprocessing and training pipeline\n",
    "    pipeline = Pipeline(steps=[('preprocessor', preprocessor),\n",
    "                                ('classifier', classifier)])\n",
    "\n",
    "    # fit the pipeline to train a logistic regression model on the training set\n",
    "    model = pipeline.fit(x_train, y_train)\n",
    "    #print (model)\n",
    "\n",
    "    # Get predictions from test data\n",
    "    predictions = model.predict(x_train)\n",
    "    y_scores = model.predict_proba(x_train)\n",
    "\n",
    "    cm = confusion_matrix(y_train, predictions)\n",
    "    #print ('Confusion Matrix:\\n',cm, '\\n')\n",
    "    print('Accuracy:', accuracy_score(y_train, predictions))\n",
    "    print('Classification Report:', classification_report(y_train, predictions))\n",
    "\n",
    "    plot_confusion_matrix(cm, classes = ['survived', 'dead'])\n",
    "    plt.show()\n",
    "    return "
   ]
  },
  {
   "cell_type": "code",
   "execution_count": 27,
   "metadata": {},
   "outputs": [],
   "source": [
    "from sklearn.pipeline import Pipeline"
   ]
  },
  {
   "cell_type": "code",
   "execution_count": 29,
   "metadata": {},
   "outputs": [],
   "source": [
    "from sklearn.preprocessing import StandardScaler"
   ]
  },
  {
   "cell_type": "code",
   "execution_count": 31,
   "metadata": {},
   "outputs": [],
   "source": [
    "from sklearn.preprocessing import OneHotEncoder"
   ]
  },
  {
   "cell_type": "code",
   "execution_count": 33,
   "metadata": {},
   "outputs": [],
   "source": [
    "from sklearn.compose import ColumnTransformer"
   ]
  },
  {
   "cell_type": "code",
   "execution_count": 45,
   "metadata": {},
   "outputs": [],
   "source": [
    "numeric_features = ['Age']\n",
    "categorical_features = ['Sex']"
   ]
  },
  {
   "cell_type": "code",
   "execution_count": 48,
   "metadata": {},
   "outputs": [
    {
     "data": {
      "text/plain": [
       "0      1\n",
       "1      0\n",
       "2      0\n",
       "3      0\n",
       "4      1\n",
       "      ..\n",
       "885    1\n",
       "886    1\n",
       "887    0\n",
       "889    0\n",
       "890    1\n",
       "Name: Survived, Length: 714, dtype: int64"
      ]
     },
     "execution_count": 48,
     "metadata": {},
     "output_type": "execute_result"
    }
   ],
   "source": [
    "y_train"
   ]
  },
  {
   "cell_type": "code",
   "execution_count": 50,
   "metadata": {
    "scrolled": true
   },
   "outputs": [
    {
     "name": "stdout",
     "output_type": "stream",
     "text": [
      "Accuracy: 0.819327731092437\n",
      "Classification Report:               precision    recall  f1-score   support\n",
      "\n",
      "           0       0.80      0.74      0.77       290\n",
      "           1       0.83      0.87      0.85       424\n",
      "\n",
      "    accuracy                           0.82       714\n",
      "   macro avg       0.82      0.81      0.81       714\n",
      "weighted avg       0.82      0.82      0.82       714\n",
      "\n"
     ]
    },
    {
     "data": {
      "image/png": "[encoded data removed]",
      "text/plain": [
       "<Figure size 432x432 with 1 Axes>"
      ]
     },
     "metadata": {
      "needs_background": "light"
     },
     "output_type": "display_data"
    }
   ],
   "source": [
    "model(xgb.XGBClassifier(max_depth=20, use_label_encoder=False, eval_metric='logloss'))"
   ]
  },
  {
   "cell_type": "code",
   "execution_count": 67,
   "metadata": {},
   "outputs": [],
   "source": [
    "from sklearn.preprocessing import MultiLabelBinarizer\n"
   ]
  },
  {
   "cell_type": "code",
   "execution_count": null,
   "metadata": {},
   "outputs": [],
   "source": []
  },
  {
   "cell_type": "code",
   "execution_count": 70,
   "metadata": {},
   "outputs": [
    {
     "data": {
      "text/plain": [
       "array([[0, 1, 1],\n",
       "       [1, 0, 0]])"
      ]
     },
     "execution_count": 70,
     "metadata": {},
     "output_type": "execute_result"
    }
   ],
   "source": [
    "mlb = MultiLabelBinarizer()\n",
    "# y_multilabel = mlb.fit_transform(list([y_train]))\n",
    "y_multilabel = mlb.fit_transform([{'sci-fi', 'thriller'}, {'comedy'}])\n",
    "y_multilabel"
   ]
  },
  {
   "cell_type": "code",
   "execution_count": 71,
   "metadata": {},
   "outputs": [
    {
     "data": {
      "text/plain": [
       "(2, 3)"
      ]
     },
     "execution_count": 71,
     "metadata": {},
     "output_type": "execute_result"
    }
   ],
   "source": [
    "y_multilabel.shape"
   ]
  },
  {
   "cell_type": "code",
   "execution_count": 72,
   "metadata": {},
   "outputs": [
    {
     "data": {
      "text/plain": [
       "array([[0, 1, 1],\n",
       "       [1, 0, 0]])"
      ]
     },
     "execution_count": 72,
     "metadata": {},
     "output_type": "execute_result"
    }
   ],
   "source": [
    "y_multilabel"
   ]
  },
  {
   "cell_type": "code",
   "execution_count": 62,
   "metadata": {},
   "outputs": [
    {
     "data": {
      "text/plain": [
       "[0      1\n",
       " 1      0\n",
       " 2      0\n",
       " 3      0\n",
       " 4      1\n",
       "       ..\n",
       " 885    1\n",
       " 886    1\n",
       " 887    0\n",
       " 889    0\n",
       " 890    1\n",
       " Name: Survived, Length: 714, dtype: int64]"
      ]
     },
     "execution_count": 62,
     "metadata": {},
     "output_type": "execute_result"
    }
   ],
   "source": [
    "list([y_train])"
   ]
  },
  {
   "cell_type": "markdown",
   "metadata": {},
   "source": [
    "## Model evaluation"
   ]
  },
  {
   "cell_type": "markdown",
   "metadata": {},
   "source": [
    "### Confusion matrices and performance score"
   ]
  },
  {
   "cell_type": "code",
   "execution_count": 53,
   "metadata": {},
   "outputs": [
    {
     "data": {
      "image/png": "[encoded data removed]",
      "text/plain": [
       "<Figure size 432x432 with 1 Axes>"
      ]
     },
     "metadata": {
      "needs_background": "light"
     },
     "output_type": "display_data"
    }
   ],
   "source": [
    "# confusion matrix\n",
    "confusionMTX = confusion_matrix(y_train, y_score, labels=[1, 0]) \n",
    "\n",
    "TP = confusionMTX[0,0]\n",
    "FP = confusionMTX[1,0]  \n",
    "FN = confusionMTX[0,1]\n",
    "TN = confusionMTX[1,1]\n",
    "\n",
    "# Fall out or false positive rate\n",
    "FPR = FP/(FP+TN)\n",
    "\n",
    "# plot the confusion matrix\n",
    "plot_confusion_matrix(confusionMTX, classes = ['Deceased', 'Survived'])"
   ]
  },
  {
   "cell_type": "code",
   "execution_count": 54,
   "metadata": {},
   "outputs": [
    {
     "name": "stdout",
     "output_type": "stream",
     "text": [
      "              precision    recall  f1-score   support\n",
      "\n",
      "           0       0.75      0.68      0.72       290\n",
      "           1       0.79      0.85      0.82       424\n",
      "\n",
      "    accuracy                           0.78       714\n",
      "   macro avg       0.77      0.76      0.77       714\n",
      "weighted avg       0.78      0.78      0.78       714\n",
      "\n"
     ]
    }
   ],
   "source": [
    "print(classification_report(y_train, y_score))"
   ]
  },
  {
   "cell_type": "markdown",
   "metadata": {},
   "source": [
    "### ROC curve with threshold values visualization"
   ]
  },
  {
   "cell_type": "code",
   "execution_count": 55,
   "metadata": {},
   "outputs": [
    {
     "data": {
      "image/png": "[encoded data removed]",
      "text/plain": [
       "<Figure size 864x864 with 1 Axes>"
      ]
     },
     "metadata": {
      "needs_background": "light"
     },
     "output_type": "display_data"
    }
   ],
   "source": [
    "plot_roc_curve(y_train, y_proba[:,1], title='ROC curve : Titanic data (predicting non survival)')"
   ]
  },
  {
   "cell_type": "markdown",
   "metadata": {},
   "source": [
    "### Precision-recall curve with threshold values visualization"
   ]
  },
  {
   "cell_type": "code",
   "execution_count": 83,
   "metadata": {},
   "outputs": [
    {
     "data": {
      "image/png": "[encoded data removed]",
      "text/plain": [
       "<Figure size 864x864 with 1 Axes>"
      ]
     },
     "metadata": {
      "needs_background": "light"
     },
     "output_type": "display_data"
    }
   ],
   "source": [
    "plot_precision_recall_curve(y_train, y_proba[:,1], title='Precision-recall curve : Titanic data (predicting non survival)')"
   ]
  },
  {
   "cell_type": "markdown",
   "metadata": {},
   "source": [
    "### Confusion matrices and performance score for thresholds between 0.0 to 1.0"
   ]
  },
  {
   "cell_type": "code",
   "execution_count": 199,
   "metadata": {},
   "outputs": [],
   "source": [
    "def set_threshold(score, threshold):\n",
    "#    print(threshold)\n",
    "    return 1.0 if score >= threshold else 0.0"
   ]
  },
  {
   "cell_type": "markdown",
   "metadata": {},
   "source": [
    "Use this line to change the threshold for the probability to have deceased : 0.0, all passengers survived ; 0.0, all passengers deceased:\n",
    "- According to the ROC and Precision-recall curves, best threshold = 0.77 "
   ]
  },
  {
   "cell_type": "code",
   "execution_count": 204,
   "metadata": {},
   "outputs": [],
   "source": [
    "y_score_thres = np.array([set_threshold(proba, 0.77) for proba in y_proba[:,1]])"
   ]
  },
  {
   "cell_type": "code",
   "execution_count": 205,
   "metadata": {},
   "outputs": [
    {
     "name": "stdout",
     "output_type": "stream",
     "text": [
      "ROC scores:\n",
      "True positive rate: 0.84\n",
      "False positive rate: 0.28\n",
      "\n",
      "Precision-recall scores:\n",
      "Precision: 0.82\n",
      "Recall: 0.84\n",
      "\n",
      "Accuracy: 0.79\n"
     ]
    },
    {
     "data": {
      "image/png": "[encoded data removed]",
      "text/plain": [
       "<Figure size 432x432 with 1 Axes>"
      ]
     },
     "metadata": {
      "needs_background": "light"
     },
     "output_type": "display_data"
    }
   ],
   "source": [
    "# confusion matrix\n",
    "confusionMTX = confusion_matrix(y_train,y_score_thres, labels=[1, 0]) \n",
    "\n",
    "TP = confusionMTX[0,0]\n",
    "FP = confusionMTX[1,0]  \n",
    "FN = confusionMTX[0,1]\n",
    "TN = confusionMTX[1,1]\n",
    "\n",
    "# Fall out or false positive rate\n",
    "FPR = FP/(FP+TN)\n",
    "\n",
    "# plot the confusion matrix\n",
    "plot_confusion_matrix(confusionMTX, classes = ['Deceased', 'Survived'])\n",
    "\n",
    "# print ROC and precision recall score \n",
    "print('ROC scores:')\n",
    "print(\"True positive rate:\",recall_score(y_train,y_score_thres).round(2))\n",
    "print(\"False positive rate:\",FPR.round(2))\n",
    "print('')\n",
    "print('Precision-recall scores:')\n",
    "print(\"Precision:\",precision_score(y_train, y_score_thres).round(2))\n",
    "print(\"Recall:\",recall_score(y_train, y_score_thres).round(2))\n",
    "print('')\n",
    "print(\"Accuracy:\",accuracy_score(y_train, y_score_thres).round(2))"
   ]
  }
 ],
 "metadata": {
  "kernelspec": {
   "display_name": "NLP-project",
   "language": "python",
   "name": "nlp-project"
  },
  "language_info": {
   "codemirror_mode": {
    "name": "ipython",
    "version": 3
   },
   "file_extension": ".py",
   "mimetype": "text/x-python",
   "name": "python",
   "nbconvert_exporter": "python",
   "pygments_lexer": "ipython3",
   "version": "3.8.8"
  }
 },
 "nbformat": 4,
 "nbformat_minor": 4
}
